{
 "cells": [
  {
   "cell_type": "code",
   "execution_count": 1,
   "metadata": {},
   "outputs": [
    {
     "name": "stdout",
     "output_type": "stream",
     "text": [
      "['/cpu:0', '/gpu:0']\n"
     ]
    }
   ],
   "source": [
    "from tensorflow.python.client import device_lib\n",
    "\n",
    "def get_available_devices():\n",
    "    local_device_protos = device_lib.list_local_devices()\n",
    "    return [x.name for x in local_device_protos]\n",
    "\n",
    "print(get_available_devices())"
   ]
  },
  {
   "cell_type": "markdown",
   "metadata": {},
   "source": [
    "## Load data"
   ]
  },
  {
   "cell_type": "code",
   "execution_count": 2,
   "metadata": {},
   "outputs": [
    {
     "name": "stderr",
     "output_type": "stream",
     "text": [
      "Using TensorFlow backend.\n"
     ]
    }
   ],
   "source": [
    "import numpy as np\n",
    "\n",
    "from keras import backend as K\n",
    "\n",
    "np.random.seed(42)"
   ]
  },
  {
   "cell_type": "code",
   "execution_count": 3,
   "metadata": {},
   "outputs": [
    {
     "name": "stdout",
     "output_type": "stream",
     "text": [
      "Training data shape: (50000, 32, 32, 3)\n",
      "Number of training examples: 50000\n",
      "Number of testing examples: 10000\n"
     ]
    }
   ],
   "source": [
    "from keras.datasets import cifar100\n",
    "\n",
    "(x_train, y_train), (x_test, y_test) = cifar100.load_data(label_mode='fine')\n",
    "\n",
    "n_training_examples = x_train.shape[0]\n",
    "n_testing_examples = x_test.shape[0]\n",
    "print('Training data shape: {}'.format(x_train.shape))\n",
    "print('Number of training examples: {}'.format(n_training_examples))\n",
    "print('Number of testing examples: {}'.format(n_testing_examples))"
   ]
  },
  {
   "cell_type": "markdown",
   "metadata": {},
   "source": [
    "## Set hyperparameters"
   ]
  },
  {
   "cell_type": "code",
   "execution_count": 4,
   "metadata": {
    "collapsed": true
   },
   "outputs": [],
   "source": [
    "import os\n",
    "\n",
    "wt_dir_name = 'weights'\n",
    "wt_file_name = 'wrn_fine_wts.h5'\n",
    "wt_file_path = os.path.join(wt_dir_name, wt_file_name)\n",
    "\n",
    "if not os.path.exists(wt_dir_name):\n",
    "    os.makedirs(wt_dir_name)\n",
    "\n",
    "batch_size = 128\n",
    "n_epochs = 60\n",
    "n_classes = 100"
   ]
  },
  {
   "cell_type": "markdown",
   "metadata": {},
   "source": [
    "## Preprocessing"
   ]
  },
  {
   "cell_type": "code",
   "execution_count": 5,
   "metadata": {},
   "outputs": [
    {
     "name": "stdout",
     "output_type": "stream",
     "text": [
      "Y_train shape: (50000, 100)\n"
     ]
    }
   ],
   "source": [
    "import keras.utils as k_utils\n",
    "\n",
    "X_train = x_train.astype('float32')\n",
    "X_train = (X_train - X_train.mean(axis=0)) / (X_train.std(axis=0))\n",
    "X_test = x_test.astype('float32')\n",
    "X_test = (X_test - X_test.mean(axis=0)) / (X_test.std(axis=0))\n",
    "Y_train = k_utils.to_categorical(y_train, n_classes)\n",
    "Y_test = k_utils.to_categorical(y_test, n_classes)\n",
    "\n",
    "print('Y_train shape: {}'.format(Y_train.shape))"
   ]
  },
  {
   "cell_type": "markdown",
   "metadata": {},
   "source": [
    "## Data generator"
   ]
  },
  {
   "cell_type": "code",
   "execution_count": 6,
   "metadata": {
    "collapsed": true
   },
   "outputs": [],
   "source": [
    "from keras.preprocessing.image import ImageDataGenerator\n",
    "\n",
    "train_datagen = ImageDataGenerator(rotation_range=10,\n",
    "                                   width_shift_range=5./32,\n",
    "                                   height_shift_range=5./32,\n",
    "                                   horizontal_flip=True)\n",
    "\n",
    "train_datagen.fit(X_train, seed=0, augment=True)"
   ]
  },
  {
   "cell_type": "markdown",
   "metadata": {},
   "source": [
    "## Define model"
   ]
  },
  {
   "cell_type": "code",
   "execution_count": 7,
   "metadata": {},
   "outputs": [
    {
     "name": "stdout",
     "output_type": "stream",
     "text": [
      "__________________________________________________________________________________________________\n",
      "Layer (type)                    Output Shape         Param #     Connected to                     \n",
      "==================================================================================================\n",
      "input_1 (InputLayer)            (None, 32, 32, 3)    0                                            \n",
      "__________________________________________________________________________________________________\n",
      "conv2d_1 (Conv2D)               (None, 32, 32, 16)   448         input_1[0][0]                    \n",
      "__________________________________________________________________________________________________\n",
      "batch_normalization_1 (BatchNor (None, 32, 32, 16)   64          conv2d_1[0][0]                   \n",
      "__________________________________________________________________________________________________\n",
      "activation_1 (Activation)       (None, 32, 32, 16)   0           batch_normalization_1[0][0]      \n",
      "__________________________________________________________________________________________________\n",
      "conv2d_3 (Conv2D)               (None, 32, 32, 128)  18560       activation_1[0][0]               \n",
      "__________________________________________________________________________________________________\n",
      "batch_normalization_2 (BatchNor (None, 32, 32, 128)  512         conv2d_3[0][0]                   \n",
      "__________________________________________________________________________________________________\n",
      "activation_2 (Activation)       (None, 32, 32, 128)  0           batch_normalization_2[0][0]      \n",
      "__________________________________________________________________________________________________\n",
      "conv2d_4 (Conv2D)               (None, 32, 32, 128)  147584      activation_2[0][0]               \n",
      "__________________________________________________________________________________________________\n",
      "batch_normalization_3 (BatchNor (None, 32, 32, 128)  512         conv2d_4[0][0]                   \n",
      "__________________________________________________________________________________________________\n",
      "conv2d_2 (Conv2D)               (None, 32, 32, 128)  2176        activation_1[0][0]               \n",
      "__________________________________________________________________________________________________\n",
      "activation_3 (Activation)       (None, 32, 32, 128)  0           batch_normalization_3[0][0]      \n",
      "__________________________________________________________________________________________________\n",
      "add_1 (Add)                     (None, 32, 32, 128)  0           conv2d_2[0][0]                   \n",
      "                                                                 activation_3[0][0]               \n",
      "__________________________________________________________________________________________________\n",
      "conv2d_5 (Conv2D)               (None, 32, 32, 128)  147584      add_1[0][0]                      \n",
      "__________________________________________________________________________________________________\n",
      "batch_normalization_4 (BatchNor (None, 32, 32, 128)  512         conv2d_5[0][0]                   \n",
      "__________________________________________________________________________________________________\n",
      "activation_4 (Activation)       (None, 32, 32, 128)  0           batch_normalization_4[0][0]      \n",
      "__________________________________________________________________________________________________\n",
      "conv2d_6 (Conv2D)               (None, 32, 32, 128)  147584      activation_4[0][0]               \n",
      "__________________________________________________________________________________________________\n",
      "batch_normalization_5 (BatchNor (None, 32, 32, 128)  512         conv2d_6[0][0]                   \n",
      "__________________________________________________________________________________________________\n",
      "activation_5 (Activation)       (None, 32, 32, 128)  0           batch_normalization_5[0][0]      \n",
      "__________________________________________________________________________________________________\n",
      "add_2 (Add)                     (None, 32, 32, 128)  0           add_1[0][0]                      \n",
      "                                                                 activation_5[0][0]               \n",
      "__________________________________________________________________________________________________\n",
      "conv2d_7 (Conv2D)               (None, 32, 32, 128)  147584      add_2[0][0]                      \n",
      "__________________________________________________________________________________________________\n",
      "batch_normalization_6 (BatchNor (None, 32, 32, 128)  512         conv2d_7[0][0]                   \n",
      "__________________________________________________________________________________________________\n",
      "activation_6 (Activation)       (None, 32, 32, 128)  0           batch_normalization_6[0][0]      \n",
      "__________________________________________________________________________________________________\n",
      "conv2d_8 (Conv2D)               (None, 32, 32, 128)  147584      activation_6[0][0]               \n",
      "__________________________________________________________________________________________________\n",
      "batch_normalization_7 (BatchNor (None, 32, 32, 128)  512         conv2d_8[0][0]                   \n",
      "__________________________________________________________________________________________________\n",
      "activation_7 (Activation)       (None, 32, 32, 128)  0           batch_normalization_7[0][0]      \n",
      "__________________________________________________________________________________________________\n",
      "add_3 (Add)                     (None, 32, 32, 128)  0           add_2[0][0]                      \n",
      "                                                                 activation_7[0][0]               \n",
      "__________________________________________________________________________________________________\n",
      "conv2d_9 (Conv2D)               (None, 32, 32, 128)  147584      add_3[0][0]                      \n",
      "__________________________________________________________________________________________________\n",
      "batch_normalization_8 (BatchNor (None, 32, 32, 128)  512         conv2d_9[0][0]                   \n",
      "__________________________________________________________________________________________________\n",
      "activation_8 (Activation)       (None, 32, 32, 128)  0           batch_normalization_8[0][0]      \n",
      "__________________________________________________________________________________________________\n",
      "conv2d_10 (Conv2D)              (None, 32, 32, 128)  147584      activation_8[0][0]               \n",
      "__________________________________________________________________________________________________\n",
      "batch_normalization_9 (BatchNor (None, 32, 32, 128)  512         conv2d_10[0][0]                  \n",
      "__________________________________________________________________________________________________\n",
      "activation_9 (Activation)       (None, 32, 32, 128)  0           batch_normalization_9[0][0]      \n",
      "__________________________________________________________________________________________________\n",
      "add_4 (Add)                     (None, 32, 32, 128)  0           add_3[0][0]                      \n",
      "                                                                 activation_9[0][0]               \n",
      "__________________________________________________________________________________________________\n",
      "max_pooling2d_1 (MaxPooling2D)  (None, 16, 16, 128)  0           add_4[0][0]                      \n",
      "__________________________________________________________________________________________________\n",
      "conv2d_12 (Conv2D)              (None, 16, 16, 256)  295168      max_pooling2d_1[0][0]            \n",
      "__________________________________________________________________________________________________\n",
      "batch_normalization_10 (BatchNo (None, 16, 16, 256)  1024        conv2d_12[0][0]                  \n",
      "__________________________________________________________________________________________________\n",
      "activation_10 (Activation)      (None, 16, 16, 256)  0           batch_normalization_10[0][0]     \n",
      "__________________________________________________________________________________________________\n",
      "conv2d_13 (Conv2D)              (None, 16, 16, 256)  590080      activation_10[0][0]              \n",
      "__________________________________________________________________________________________________\n",
      "batch_normalization_11 (BatchNo (None, 16, 16, 256)  1024        conv2d_13[0][0]                  \n",
      "__________________________________________________________________________________________________\n",
      "conv2d_11 (Conv2D)              (None, 16, 16, 256)  33024       max_pooling2d_1[0][0]            \n",
      "__________________________________________________________________________________________________\n",
      "activation_11 (Activation)      (None, 16, 16, 256)  0           batch_normalization_11[0][0]     \n",
      "__________________________________________________________________________________________________\n",
      "add_5 (Add)                     (None, 16, 16, 256)  0           conv2d_11[0][0]                  \n",
      "                                                                 activation_11[0][0]              \n",
      "__________________________________________________________________________________________________\n",
      "conv2d_14 (Conv2D)              (None, 16, 16, 256)  590080      add_5[0][0]                      \n",
      "__________________________________________________________________________________________________\n",
      "batch_normalization_12 (BatchNo (None, 16, 16, 256)  1024        conv2d_14[0][0]                  \n",
      "__________________________________________________________________________________________________\n",
      "activation_12 (Activation)      (None, 16, 16, 256)  0           batch_normalization_12[0][0]     \n",
      "__________________________________________________________________________________________________\n",
      "conv2d_15 (Conv2D)              (None, 16, 16, 256)  590080      activation_12[0][0]              \n",
      "__________________________________________________________________________________________________\n",
      "batch_normalization_13 (BatchNo (None, 16, 16, 256)  1024        conv2d_15[0][0]                  \n",
      "__________________________________________________________________________________________________\n",
      "activation_13 (Activation)      (None, 16, 16, 256)  0           batch_normalization_13[0][0]     \n",
      "__________________________________________________________________________________________________\n",
      "add_6 (Add)                     (None, 16, 16, 256)  0           add_5[0][0]                      \n",
      "                                                                 activation_13[0][0]              \n",
      "__________________________________________________________________________________________________\n",
      "conv2d_16 (Conv2D)              (None, 16, 16, 256)  590080      add_6[0][0]                      \n",
      "__________________________________________________________________________________________________\n",
      "batch_normalization_14 (BatchNo (None, 16, 16, 256)  1024        conv2d_16[0][0]                  \n",
      "__________________________________________________________________________________________________\n",
      "activation_14 (Activation)      (None, 16, 16, 256)  0           batch_normalization_14[0][0]     \n",
      "__________________________________________________________________________________________________\n",
      "conv2d_17 (Conv2D)              (None, 16, 16, 256)  590080      activation_14[0][0]              \n",
      "__________________________________________________________________________________________________\n",
      "batch_normalization_15 (BatchNo (None, 16, 16, 256)  1024        conv2d_17[0][0]                  \n",
      "__________________________________________________________________________________________________\n",
      "activation_15 (Activation)      (None, 16, 16, 256)  0           batch_normalization_15[0][0]     \n",
      "__________________________________________________________________________________________________\n",
      "add_7 (Add)                     (None, 16, 16, 256)  0           add_6[0][0]                      \n",
      "                                                                 activation_15[0][0]              \n",
      "__________________________________________________________________________________________________\n",
      "conv2d_18 (Conv2D)              (None, 16, 16, 256)  590080      add_7[0][0]                      \n",
      "__________________________________________________________________________________________________\n",
      "batch_normalization_16 (BatchNo (None, 16, 16, 256)  1024        conv2d_18[0][0]                  \n",
      "__________________________________________________________________________________________________\n",
      "activation_16 (Activation)      (None, 16, 16, 256)  0           batch_normalization_16[0][0]     \n",
      "__________________________________________________________________________________________________\n",
      "conv2d_19 (Conv2D)              (None, 16, 16, 256)  590080      activation_16[0][0]              \n",
      "__________________________________________________________________________________________________\n",
      "batch_normalization_17 (BatchNo (None, 16, 16, 256)  1024        conv2d_19[0][0]                  \n",
      "__________________________________________________________________________________________________\n",
      "activation_17 (Activation)      (None, 16, 16, 256)  0           batch_normalization_17[0][0]     \n",
      "__________________________________________________________________________________________________\n",
      "add_8 (Add)                     (None, 16, 16, 256)  0           add_7[0][0]                      \n",
      "                                                                 activation_17[0][0]              \n",
      "__________________________________________________________________________________________________\n",
      "max_pooling2d_2 (MaxPooling2D)  (None, 8, 8, 256)    0           add_8[0][0]                      \n",
      "__________________________________________________________________________________________________\n",
      "conv2d_21 (Conv2D)              (None, 8, 8, 512)    1180160     max_pooling2d_2[0][0]            \n",
      "__________________________________________________________________________________________________\n",
      "batch_normalization_18 (BatchNo (None, 8, 8, 512)    2048        conv2d_21[0][0]                  \n",
      "__________________________________________________________________________________________________\n",
      "activation_18 (Activation)      (None, 8, 8, 512)    0           batch_normalization_18[0][0]     \n",
      "__________________________________________________________________________________________________\n",
      "conv2d_22 (Conv2D)              (None, 8, 8, 512)    2359808     activation_18[0][0]              \n",
      "__________________________________________________________________________________________________\n",
      "batch_normalization_19 (BatchNo (None, 8, 8, 512)    2048        conv2d_22[0][0]                  \n",
      "__________________________________________________________________________________________________\n",
      "conv2d_20 (Conv2D)              (None, 8, 8, 512)    131584      max_pooling2d_2[0][0]            \n",
      "__________________________________________________________________________________________________\n",
      "activation_19 (Activation)      (None, 8, 8, 512)    0           batch_normalization_19[0][0]     \n",
      "__________________________________________________________________________________________________\n",
      "add_9 (Add)                     (None, 8, 8, 512)    0           conv2d_20[0][0]                  \n",
      "                                                                 activation_19[0][0]              \n",
      "__________________________________________________________________________________________________\n",
      "conv2d_23 (Conv2D)              (None, 8, 8, 512)    2359808     add_9[0][0]                      \n",
      "__________________________________________________________________________________________________\n",
      "batch_normalization_20 (BatchNo (None, 8, 8, 512)    2048        conv2d_23[0][0]                  \n",
      "__________________________________________________________________________________________________\n",
      "activation_20 (Activation)      (None, 8, 8, 512)    0           batch_normalization_20[0][0]     \n",
      "__________________________________________________________________________________________________\n",
      "conv2d_24 (Conv2D)              (None, 8, 8, 512)    2359808     activation_20[0][0]              \n",
      "__________________________________________________________________________________________________\n",
      "batch_normalization_21 (BatchNo (None, 8, 8, 512)    2048        conv2d_24[0][0]                  \n",
      "__________________________________________________________________________________________________\n",
      "activation_21 (Activation)      (None, 8, 8, 512)    0           batch_normalization_21[0][0]     \n",
      "__________________________________________________________________________________________________\n",
      "add_10 (Add)                    (None, 8, 8, 512)    0           add_9[0][0]                      \n",
      "                                                                 activation_21[0][0]              \n",
      "__________________________________________________________________________________________________\n",
      "conv2d_25 (Conv2D)              (None, 8, 8, 512)    2359808     add_10[0][0]                     \n",
      "__________________________________________________________________________________________________\n",
      "batch_normalization_22 (BatchNo (None, 8, 8, 512)    2048        conv2d_25[0][0]                  \n",
      "__________________________________________________________________________________________________\n",
      "activation_22 (Activation)      (None, 8, 8, 512)    0           batch_normalization_22[0][0]     \n",
      "__________________________________________________________________________________________________\n",
      "conv2d_26 (Conv2D)              (None, 8, 8, 512)    2359808     activation_22[0][0]              \n",
      "__________________________________________________________________________________________________\n",
      "batch_normalization_23 (BatchNo (None, 8, 8, 512)    2048        conv2d_26[0][0]                  \n",
      "__________________________________________________________________________________________________\n",
      "activation_23 (Activation)      (None, 8, 8, 512)    0           batch_normalization_23[0][0]     \n",
      "__________________________________________________________________________________________________\n",
      "add_11 (Add)                    (None, 8, 8, 512)    0           add_10[0][0]                     \n",
      "                                                                 activation_23[0][0]              \n",
      "__________________________________________________________________________________________________\n",
      "conv2d_27 (Conv2D)              (None, 8, 8, 512)    2359808     add_11[0][0]                     \n",
      "__________________________________________________________________________________________________\n",
      "batch_normalization_24 (BatchNo (None, 8, 8, 512)    2048        conv2d_27[0][0]                  \n",
      "__________________________________________________________________________________________________\n",
      "activation_24 (Activation)      (None, 8, 8, 512)    0           batch_normalization_24[0][0]     \n",
      "__________________________________________________________________________________________________\n",
      "conv2d_28 (Conv2D)              (None, 8, 8, 512)    2359808     activation_24[0][0]              \n",
      "__________________________________________________________________________________________________\n",
      "batch_normalization_25 (BatchNo (None, 8, 8, 512)    2048        conv2d_28[0][0]                  \n",
      "__________________________________________________________________________________________________\n",
      "activation_25 (Activation)      (None, 8, 8, 512)    0           batch_normalization_25[0][0]     \n",
      "__________________________________________________________________________________________________\n",
      "add_12 (Add)                    (None, 8, 8, 512)    0           add_11[0][0]                     \n",
      "                                                                 activation_25[0][0]              \n",
      "__________________________________________________________________________________________________\n",
      "global_average_pooling2d_1 (Glo (None, 512)          0           add_12[0][0]                     \n",
      "__________________________________________________________________________________________________\n",
      "dense_1 (Dense)                 (None, 100)          51300       global_average_pooling2d_1[0][0] \n",
      "==================================================================================================\n",
      "Total params: 23,423,460\n",
      "Trainable params: 23,409,092\n",
      "Non-trainable params: 14,368\n",
      "__________________________________________________________________________________________________\n"
     ]
    }
   ],
   "source": [
    "from keras_contrib.applications import wide_resnet as wrn\n",
    "\n",
    "model = wrn.WideResidualNetwork(depth=28, width=8, dropout_rate=0., weights=None, classes=n_classes, activation='softmax')\n",
    "\n",
    "model.summary()"
   ]
  },
  {
   "cell_type": "markdown",
   "metadata": {},
   "source": [
    "## Compile model"
   ]
  },
  {
   "cell_type": "code",
   "execution_count": 8,
   "metadata": {
    "collapsed": true
   },
   "outputs": [],
   "source": [
    "model.compile(loss='categorical_crossentropy', optimizer='adam', metrics=['accuracy'])"
   ]
  },
  {
   "cell_type": "markdown",
   "metadata": {},
   "source": [
    "## Fit model"
   ]
  },
  {
   "cell_type": "code",
   "execution_count": 9,
   "metadata": {},
   "outputs": [
    {
     "name": "stdout",
     "output_type": "stream",
     "text": [
      "Epoch 1/60\n",
      " - 320s - loss: 2.0827 - acc: 0.4494 - val_loss: 2.8376 - val_acc: 0.3669\n",
      "Epoch 2/60\n",
      " - 314s - loss: 1.8168 - acc: 0.5056 - val_loss: 2.3845 - val_acc: 0.4261\n",
      "Epoch 3/60\n",
      " - 315s - loss: 1.6170 - acc: 0.5518 - val_loss: 2.4767 - val_acc: 0.4233\n",
      "Epoch 4/60\n",
      " - 314s - loss: 1.4547 - acc: 0.5900 - val_loss: 1.8381 - val_acc: 0.5235\n",
      "Epoch 5/60\n",
      " - 314s - loss: 1.3222 - acc: 0.6221 - val_loss: 1.7673 - val_acc: 0.5440\n",
      "Epoch 6/60\n",
      " - 314s - loss: 1.1889 - acc: 0.6559 - val_loss: 1.8719 - val_acc: 0.5460\n",
      "Epoch 7/60\n",
      " - 314s - loss: 1.0882 - acc: 0.6800 - val_loss: 2.1437 - val_acc: 0.4972\n",
      "Epoch 8/60\n",
      " - 314s - loss: 0.9919 - acc: 0.7057 - val_loss: 2.2139 - val_acc: 0.5069\n",
      "Epoch 9/60\n",
      " - 314s - loss: 0.9032 - acc: 0.7284 - val_loss: 1.8944 - val_acc: 0.5443\n",
      "Epoch 10/60\n",
      " - 315s - loss: 0.8283 - acc: 0.7471 - val_loss: 1.7804 - val_acc: 0.5779\n",
      "Epoch 11/60\n",
      " - 314s - loss: 0.7532 - acc: 0.7692 - val_loss: 2.2500 - val_acc: 0.5340\n",
      "Epoch 12/60\n",
      " - 314s - loss: 0.6762 - acc: 0.7901 - val_loss: 1.8209 - val_acc: 0.5888\n",
      "Epoch 13/60\n",
      " - 314s - loss: 0.6145 - acc: 0.8078 - val_loss: 1.9598 - val_acc: 0.5691\n",
      "Epoch 14/60\n",
      " - 314s - loss: 0.5569 - acc: 0.8246 - val_loss: 2.3736 - val_acc: 0.5206\n",
      "Epoch 15/60\n",
      " - 314s - loss: 0.5034 - acc: 0.8396 - val_loss: 1.8625 - val_acc: 0.5849\n",
      "Epoch 16/60\n",
      " - 314s - loss: 0.4475 - acc: 0.8586 - val_loss: 1.8643 - val_acc: 0.6038\n",
      "Epoch 17/60\n",
      " - 314s - loss: 0.4110 - acc: 0.8680 - val_loss: 1.9756 - val_acc: 0.5978\n",
      "Epoch 18/60\n",
      " - 314s - loss: 0.3766 - acc: 0.8782 - val_loss: 2.1375 - val_acc: 0.5785\n",
      "Epoch 19/60\n",
      " - 314s - loss: 0.3525 - acc: 0.8861 - val_loss: 1.8933 - val_acc: 0.6211\n",
      "Epoch 20/60\n",
      " - 314s - loss: 0.3052 - acc: 0.9000 - val_loss: 2.0232 - val_acc: 0.5945\n",
      "Epoch 21/60\n",
      " - 314s - loss: 0.2965 - acc: 0.9027 - val_loss: 2.1467 - val_acc: 0.5916\n",
      "Epoch 22/60\n",
      " - 314s - loss: 0.2689 - acc: 0.9120 - val_loss: 2.1031 - val_acc: 0.6030\n",
      "Epoch 23/60\n",
      " - 314s - loss: 0.2406 - acc: 0.9217 - val_loss: 1.9677 - val_acc: 0.6261\n",
      "Epoch 24/60\n",
      " - 314s - loss: 0.2233 - acc: 0.9270 - val_loss: 1.8383 - val_acc: 0.6387\n",
      "Epoch 25/60\n",
      " - 314s - loss: 0.2210 - acc: 0.9277 - val_loss: 2.3134 - val_acc: 0.5897\n",
      "Epoch 26/60\n",
      " - 314s - loss: 0.2174 - acc: 0.9289 - val_loss: 2.3063 - val_acc: 0.6126\n",
      "Epoch 27/60\n",
      " - 314s - loss: 0.1927 - acc: 0.9358 - val_loss: 2.3148 - val_acc: 0.5986\n",
      "Epoch 28/60\n",
      " - 314s - loss: 0.1795 - acc: 0.9411 - val_loss: 2.2004 - val_acc: 0.6217\n",
      "Epoch 29/60\n",
      " - 314s - loss: 0.1787 - acc: 0.9398 - val_loss: 2.2250 - val_acc: 0.6079\n",
      "Epoch 30/60\n",
      " - 314s - loss: 0.1689 - acc: 0.9443 - val_loss: 2.2606 - val_acc: 0.6200\n",
      "Epoch 31/60\n",
      " - 314s - loss: 0.1544 - acc: 0.9486 - val_loss: 2.2918 - val_acc: 0.6243\n",
      "Epoch 32/60\n",
      " - 314s - loss: 0.1562 - acc: 0.9484 - val_loss: 2.1802 - val_acc: 0.6274\n",
      "Epoch 33/60\n",
      " - 314s - loss: 0.1524 - acc: 0.9503 - val_loss: 2.0679 - val_acc: 0.6526\n",
      "Epoch 34/60\n",
      " - 314s - loss: 0.1396 - acc: 0.9533 - val_loss: 2.1419 - val_acc: 0.6460\n",
      "Epoch 35/60\n",
      " - 314s - loss: 0.1438 - acc: 0.9534 - val_loss: 2.1601 - val_acc: 0.6385\n",
      "Epoch 36/60\n",
      " - 314s - loss: 0.1256 - acc: 0.9596 - val_loss: 2.3529 - val_acc: 0.6054\n",
      "Epoch 37/60\n",
      " - 314s - loss: 0.1295 - acc: 0.9579 - val_loss: 2.4760 - val_acc: 0.6237\n",
      "Epoch 38/60\n",
      " - 314s - loss: 0.1229 - acc: 0.9597 - val_loss: 2.3364 - val_acc: 0.6256\n",
      "Epoch 39/60\n",
      " - 314s - loss: 0.1238 - acc: 0.9594 - val_loss: 2.2837 - val_acc: 0.6463\n",
      "Epoch 40/60\n",
      " - 314s - loss: 0.1168 - acc: 0.9620 - val_loss: 2.5389 - val_acc: 0.6174\n",
      "Epoch 41/60\n",
      " - 314s - loss: 0.1213 - acc: 0.9597 - val_loss: 2.2099 - val_acc: 0.6513\n",
      "Epoch 42/60\n",
      " - 314s - loss: 0.1108 - acc: 0.9635 - val_loss: 2.5128 - val_acc: 0.6141\n",
      "Epoch 43/60\n",
      " - 314s - loss: 0.1096 - acc: 0.9648 - val_loss: 2.6269 - val_acc: 0.6138\n",
      "Epoch 44/60\n",
      " - 314s - loss: 0.1086 - acc: 0.9655 - val_loss: 2.1746 - val_acc: 0.6492\n",
      "Epoch 45/60\n",
      " - 314s - loss: 0.1041 - acc: 0.9654 - val_loss: 2.4606 - val_acc: 0.6300\n",
      "Epoch 46/60\n",
      " - 314s - loss: 0.0989 - acc: 0.9668 - val_loss: 2.6428 - val_acc: 0.6106\n",
      "Epoch 47/60\n",
      " - 314s - loss: 0.1001 - acc: 0.9672 - val_loss: 2.3336 - val_acc: 0.6421\n",
      "Epoch 48/60\n",
      " - 314s - loss: 0.0975 - acc: 0.9679 - val_loss: 2.4635 - val_acc: 0.6231\n",
      "Epoch 49/60\n",
      " - 315s - loss: 0.0925 - acc: 0.9702 - val_loss: 2.2844 - val_acc: 0.6616\n",
      "Epoch 50/60\n",
      " - 314s - loss: 0.0971 - acc: 0.9674 - val_loss: 2.2900 - val_acc: 0.6551\n",
      "Epoch 51/60\n",
      " - 314s - loss: 0.1008 - acc: 0.9667 - val_loss: 2.3830 - val_acc: 0.6329\n",
      "Epoch 52/60\n",
      " - 314s - loss: 0.0854 - acc: 0.9732 - val_loss: 2.4226 - val_acc: 0.6389\n",
      "Epoch 53/60\n",
      " - 314s - loss: 0.0808 - acc: 0.9736 - val_loss: 2.4350 - val_acc: 0.6466\n",
      "Epoch 54/60\n",
      " - 314s - loss: 0.0886 - acc: 0.9710 - val_loss: 2.5940 - val_acc: 0.6248\n",
      "Epoch 55/60\n",
      " - 314s - loss: 0.0847 - acc: 0.9726 - val_loss: 2.4574 - val_acc: 0.6397\n",
      "Epoch 56/60\n",
      " - 314s - loss: 0.0837 - acc: 0.9729 - val_loss: 2.5626 - val_acc: 0.6287\n",
      "Epoch 57/60\n",
      " - 315s - loss: 0.0798 - acc: 0.9742 - val_loss: 2.4291 - val_acc: 0.6403\n",
      "Epoch 58/60\n",
      " - 314s - loss: 0.0847 - acc: 0.9736 - val_loss: 2.2712 - val_acc: 0.6438\n",
      "Epoch 59/60\n",
      " - 314s - loss: 0.0793 - acc: 0.9738 - val_loss: 2.6014 - val_acc: 0.6300\n",
      "Epoch 60/60\n",
      " - 314s - loss: 0.0801 - acc: 0.9738 - val_loss: 2.3880 - val_acc: 0.6563\n",
      "Training time: 18871.834548950195s\n"
     ]
    }
   ],
   "source": [
    "from keras.callbacks import ModelCheckpoint\n",
    "import time\n",
    "\n",
    "if os.path.exists(wt_file_path):\n",
    "    model.load_weights(wt_file_path)\n",
    "    \n",
    "checkpointer = ModelCheckpoint(wt_file_name, monitor=\"val_acc\", save_best_only=True)\n",
    "\n",
    "t_s = time.time()\n",
    "history = model.fit_generator(train_datagen.flow(X_train, Y_train, batch_size=batch_size),\n",
    "                    steps_per_epoch=n_training_examples//batch_size + 1,\n",
    "                    epochs=n_epochs,\n",
    "                    validation_data=(X_test, Y_test),\n",
    "                    validation_steps=n_testing_examples//batch_size,\n",
    "                    callbacks=[checkpointer],\n",
    "                    verbose=2)\n",
    "\n",
    "t_f = time.time()\n",
    "\n",
    "print('Training time: {}s'.format(t_f - t_s))"
   ]
  },
  {
   "cell_type": "markdown",
   "metadata": {},
   "source": [
    "## Evaluate model"
   ]
  },
  {
   "cell_type": "code",
   "execution_count": 10,
   "metadata": {},
   "outputs": [
    {
     "name": "stdout",
     "output_type": "stream",
     "text": [
      "10000/10000 [==============================] - 20s 2ms/step\n",
      "\n",
      "Test acc: 65.63%\n"
     ]
    }
   ],
   "source": [
    "scores = model.evaluate(X_test, Y_test, batch_size=batch_size)\n",
    "print(\"\\nTest %s: %.2f%%\" % (model.metrics_names[1], scores[1]*100))"
   ]
  },
  {
   "cell_type": "markdown",
   "metadata": {},
   "source": [
    "## Plot accuracy and loss"
   ]
  },
  {
   "cell_type": "code",
   "execution_count": 11,
   "metadata": {},
   "outputs": [
    {
     "data": {
      "image/png": "[encoded data removed]",
      "text/plain": [
       "<matplotlib.figure.Figure at 0x7fa5706d5cf8>"
      ]
     },
     "metadata": {},
     "output_type": "display_data"
    },
    {
     "data": {
      "image/png": "[encoded data removed]",
      "text/plain": [
       "<matplotlib.figure.Figure at 0x7fa6783c3470>"
      ]
     },
     "metadata": {},
     "output_type": "display_data"
    }
   ],
   "source": [
    "import matplotlib.pyplot as plt\n",
    "%matplotlib inline\n",
    "\n",
    "acc = history.history['acc']\n",
    "val_acc = history.history['val_acc']\n",
    "loss = history.history['loss']\n",
    "val_loss = history.history['val_loss']\n",
    "\n",
    "epochs = range(len(acc))\n",
    "\n",
    "plt.plot(epochs, acc, 'bo', label='Training acc')\n",
    "plt.plot(epochs, val_acc, 'r', label='Validation acc')\n",
    "plt.title('Training and validation accuracy')\n",
    "plt.legend()\n",
    "\n",
    "plt.figure()\n",
    "\n",
    "plt.plot(epochs, loss, 'bo', label='Training loss')\n",
    "plt.plot(epochs, val_loss, 'r', label='Validation loss')\n",
    "plt.title('Training and validation loss')\n",
    "plt.legend()\n",
    "\n",
    "plt.show()"
   ]
  },
  {
   "cell_type": "markdown",
   "metadata": {},
   "source": [
    "References\n",
    "- Wide Residual Networks (BMVC 2016) http://arxiv.org/abs/1605.07146 by Sergey Zagoruyko and Nikos Komodakis.\n",
    "- https://github.com/szagoruyko/wide-residual-networks \n",
    "- https://github.com/keras-team/keras-contrib\n",
    "- https://github.com/titu1994/Wide-Residual-Networks"
   ]
  }
 ],
 "metadata": {
  "kernelspec": {
   "display_name": "Python 3",
   "language": "python",
   "name": "python3"
  },
  "language_info": {
   "codemirror_mode": {
    "name": "ipython",
    "version": 3
   },
   "file_extension": ".py",
   "mimetype": "text/x-python",
   "name": "python",
   "nbconvert_exporter": "python",
   "pygments_lexer": "ipython3",
   "version": "3.6.2"
  }
 },
 "nbformat": 4,
 "nbformat_minor": 2
}
