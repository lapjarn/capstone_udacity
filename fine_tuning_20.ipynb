{
 "cells": [
  {
   "cell_type": "markdown",
   "metadata": {
    "colab_type": "text",
    "id": "lGwxoQUcaSiC"
   },
   "source": [
    "## Load dataset"
   ]
  },
  {
   "cell_type": "code",
   "execution_count": 1,
   "metadata": {
    "colab": {
     "autoexec": {
      "startup": false,
      "wait_interval": 0
     },
     "base_uri": "https://localhost:8080/",
     "height": 34
    },
    "colab_type": "code",
    "executionInfo": {
     "elapsed": 8276,
     "status": "ok",
     "timestamp": 1524206059739,
     "user": {
      "displayName": "Pranjal Borah",
      "photoUrl": "//lh3.googleusercontent.com/-oq_4MGCUClM/AAAAAAAAAAI/AAAAAAAAAHE/NHmV55gWGqo/s50-c-k-no/photo.jpg",
      "userId": "110927440164839730865"
     },
     "user_tz": -330
    },
    "id": "KnBCoss5E3WB",
    "outputId": "808112af-8493-42bb-8400-21a24a0156cd"
   },
   "outputs": [
    {
     "name": "stderr",
     "output_type": "stream",
     "text": [
      "Using TensorFlow backend.\n"
     ]
    }
   ],
   "source": [
    "import numpy as np\n",
    "\n",
    "from keras import backend as K\n",
    "\n",
    "np.random.seed(42)"
   ]
  },
  {
   "cell_type": "code",
   "execution_count": 2,
   "metadata": {
    "colab": {
     "autoexec": {
      "startup": false,
      "wait_interval": 0
     },
     "base_uri": "https://localhost:8080/",
     "height": 101
    },
    "colab_type": "code",
    "executionInfo": {
     "elapsed": 13697,
     "status": "ok",
     "timestamp": 1524206088055,
     "user": {
      "displayName": "Pranjal Borah",
      "photoUrl": "//lh3.googleusercontent.com/-oq_4MGCUClM/AAAAAAAAAAI/AAAAAAAAAHE/NHmV55gWGqo/s50-c-k-no/photo.jpg",
      "userId": "110927440164839730865"
     },
     "user_tz": -330
    },
    "id": "ibv6ad2MaJff",
    "outputId": "cf8fe016-b980-4332-b57f-0db6132164c2"
   },
   "outputs": [
    {
     "name": "stdout",
     "output_type": "stream",
     "text": [
      "Training data shape: (50000, 32, 32, 3)\n",
      "Number of training examples: 50000\n",
      "Number of testing examples: 10000\n"
     ]
    }
   ],
   "source": [
    "from keras.datasets import cifar100\n",
    "\n",
    "(x_train, y_train), (x_test, y_test) = cifar100.load_data(label_mode='coarse')\n",
    "\n",
    "n_training_examples = x_train.shape[0]\n",
    "n_testing_examples = x_test.shape[0]\n",
    "print('Training data shape: {}'.format(x_train.shape))\n",
    "print('Number of training examples: {}'.format(n_training_examples))\n",
    "print('Number of testing examples: {}'.format(n_testing_examples))"
   ]
  },
  {
   "cell_type": "markdown",
   "metadata": {
    "colab_type": "text",
    "id": "e0SQFo8EFM_s"
   },
   "source": [
    "## Set hyperparameters"
   ]
  },
  {
   "cell_type": "code",
   "execution_count": 3,
   "metadata": {
    "colab": {
     "autoexec": {
      "startup": false,
      "wait_interval": 0
     }
    },
    "colab_type": "code",
    "collapsed": true,
    "id": "RgJgyMqMFVru"
   },
   "outputs": [],
   "source": [
    "batch_size = 16\n",
    "n_epochs = 20\n",
    "n_classes = 20"
   ]
  },
  {
   "cell_type": "markdown",
   "metadata": {
    "colab_type": "text",
    "id": "KtWPCpjFFtl_"
   },
   "source": [
    "## Preprocessing"
   ]
  },
  {
   "cell_type": "code",
   "execution_count": 4,
   "metadata": {
    "colab": {
     "autoexec": {
      "startup": false,
      "wait_interval": 0
     },
     "base_uri": "https://localhost:8080/",
     "height": 34
    },
    "colab_type": "code",
    "executionInfo": {
     "elapsed": 899,
     "status": "ok",
     "timestamp": 1524206108300,
     "user": {
      "displayName": "Pranjal Borah",
      "photoUrl": "//lh3.googleusercontent.com/-oq_4MGCUClM/AAAAAAAAAAI/AAAAAAAAAHE/NHmV55gWGqo/s50-c-k-no/photo.jpg",
      "userId": "110927440164839730865"
     },
     "user_tz": -330
    },
    "id": "R0deapbGFs3O",
    "outputId": "7aa9ed4b-a512-4210-ccd7-980d78d39bcf"
   },
   "outputs": [
    {
     "name": "stdout",
     "output_type": "stream",
     "text": [
      "Y_train shape: (50000, 20)\n"
     ]
    }
   ],
   "source": [
    "import keras.utils as k_utils\n",
    "\n",
    "Y_train = k_utils.to_categorical(y_train, n_classes)\n",
    "Y_test = k_utils.to_categorical(y_test, n_classes)\n",
    "\n",
    "print('Y_train shape: {}'.format(Y_train.shape))"
   ]
  },
  {
   "cell_type": "markdown",
   "metadata": {
    "colab_type": "text",
    "id": "ONfvP5LOGAcM"
   },
   "source": [
    "## Data generator"
   ]
  },
  {
   "cell_type": "code",
   "execution_count": 5,
   "metadata": {
    "colab": {
     "autoexec": {
      "startup": false,
      "wait_interval": 0
     }
    },
    "colab_type": "code",
    "collapsed": true,
    "id": "p4kI8wYhtk2v"
   },
   "outputs": [],
   "source": [
    "from keras.applications.resnet50 import preprocess_input\n",
    "import cv2\n",
    "\n",
    "def image_generator(images, labels):\n",
    "    def generator():\n",
    "        start = 0\n",
    "        end = batch_size\n",
    "        n = len(images)\n",
    "        while True:\n",
    "            img_batch_resized = np.array([cv2.resize(img, (224, 224), interpolation=cv2.INTER_CUBIC) for img in images[start:end]])\n",
    "            img_batch_resized = img_batch_resized.astype('float32')\n",
    "            img_batch_preprocessed = preprocess_input(img_batch_resized)\n",
    "            label_batch = labels[start:end]\n",
    "            \n",
    "            start += batch_size\n",
    "            end += batch_size\n",
    "            if start >= n:\n",
    "                start = 0\n",
    "                end = batch_size\n",
    "            yield (img_batch_preprocessed, label_batch)\n",
    "    return generator"
   ]
  },
  {
   "cell_type": "markdown",
   "metadata": {
    "colab_type": "text",
    "id": "y8Cn3uHUHhU4"
   },
   "source": [
    "## Define model"
   ]
  },
  {
   "cell_type": "code",
   "execution_count": 6,
   "metadata": {
    "colab": {
     "autoexec": {
      "startup": false,
      "wait_interval": 0
     },
     "base_uri": "https://localhost:8080/",
     "height": 71
    },
    "colab_type": "code",
    "collapsed": true,
    "executionInfo": {
     "elapsed": 11898,
     "status": "ok",
     "timestamp": 1524206149326,
     "user": {
      "displayName": "Pranjal Borah",
      "photoUrl": "//lh3.googleusercontent.com/-oq_4MGCUClM/AAAAAAAAAAI/AAAAAAAAAHE/NHmV55gWGqo/s50-c-k-no/photo.jpg",
      "userId": "110927440164839730865"
     },
     "user_tz": -330
    },
    "id": "ov89o-zpb8Ye",
    "outputId": "b981a164-1716-4fb8-c1a8-722248741b54"
   },
   "outputs": [],
   "source": [
    "from keras.applications.resnet50 import ResNet50\n",
    "\n",
    "base_model = ResNet50(weights='imagenet', include_top=False)"
   ]
  },
  {
   "cell_type": "code",
   "execution_count": 7,
   "metadata": {
    "colab": {
     "autoexec": {
      "startup": false,
      "wait_interval": 0
     }
    },
    "colab_type": "code",
    "collapsed": true,
    "id": "dnZSwfdwgJ1O"
   },
   "outputs": [],
   "source": [
    "from keras.models import Model\n",
    "from keras.layers import Dense, GlobalAveragePooling2D\n",
    "\n",
    "x = base_model.output\n",
    "x = GlobalAveragePooling2D()(x)\n",
    "x = Dense(1024, activation='relu')(x)\n",
    "predictions = Dense(n_classes, activation='softmax')(x)\n",
    "\n",
    "model = Model(inputs=base_model.input, outputs=predictions)"
   ]
  },
  {
   "cell_type": "markdown",
   "metadata": {
    "colab_type": "text",
    "id": "OhZT46ytH_6x"
   },
   "source": [
    "## Compile model"
   ]
  },
  {
   "cell_type": "code",
   "execution_count": 8,
   "metadata": {
    "colab": {
     "autoexec": {
      "startup": false,
      "wait_interval": 0
     }
    },
    "colab_type": "code",
    "collapsed": true,
    "id": "CsHziracghKv"
   },
   "outputs": [],
   "source": [
    "for layer in base_model.layers:\n",
    "    layer.trainable = False\n",
    "\n",
    "model.compile(optimizer='rmsprop', loss='categorical_crossentropy', metrics=['accuracy'])"
   ]
  },
  {
   "cell_type": "markdown",
   "metadata": {
    "colab_type": "text",
    "id": "lqynPhssIT45"
   },
   "source": [
    "## Fit model"
   ]
  },
  {
   "cell_type": "code",
   "execution_count": 9,
   "metadata": {
    "colab": {
     "autoexec": {
      "startup": false,
      "wait_interval": 0
     }
    },
    "colab_type": "code",
    "collapsed": true,
    "id": "tFOAXsVxjSHS"
   },
   "outputs": [],
   "source": [
    "train_datagen = image_generator(x_train, Y_train)"
   ]
  },
  {
   "cell_type": "code",
   "execution_count": 10,
   "metadata": {
    "colab": {
     "autoexec": {
      "startup": false,
      "wait_interval": 0
     }
    },
    "colab_type": "code",
    "collapsed": true,
    "id": "mF3NZ-iqkX4O"
   },
   "outputs": [],
   "source": [
    "test_datagen = image_generator(x_test, Y_test)"
   ]
  },
  {
   "cell_type": "code",
   "execution_count": 11,
   "metadata": {
    "colab": {
     "autoexec": {
      "startup": false,
      "wait_interval": 0
     },
     "base_uri": "https://localhost:8080/",
     "height": 101
    },
    "colab_type": "code",
    "executionInfo": {
     "elapsed": 1142665,
     "status": "ok",
     "timestamp": 1524207326947,
     "user": {
      "displayName": "Pranjal Borah",
      "photoUrl": "//lh3.googleusercontent.com/-oq_4MGCUClM/AAAAAAAAAAI/AAAAAAAAAHE/NHmV55gWGqo/s50-c-k-no/photo.jpg",
      "userId": "110927440164839730865"
     },
     "user_tz": -330
    },
    "id": "FMeHRaUojxsO",
    "outputId": "4b7db912-93e9-4431-b2f6-1dc74ccbd269"
   },
   "outputs": [
    {
     "name": "stdout",
     "output_type": "stream",
     "text": [
      "Epoch 1/2\n",
      " - 361s - loss: 1.2904 - acc: 0.6101 - val_loss: 1.1396 - val_acc: 0.7050\n",
      "Epoch 2/2\n",
      " - 359s - loss: 0.9689 - acc: 0.7108 - val_loss: 1.3256 - val_acc: 0.7188\n"
     ]
    },
    {
     "data": {
      "text/plain": [
       "<keras.callbacks.History at 0x7fc5e26184a8>"
      ]
     },
     "execution_count": 11,
     "metadata": {},
     "output_type": "execute_result"
    }
   ],
   "source": [
    "model.fit_generator(train_datagen(), \n",
    "                    steps_per_epoch=n_training_examples//batch_size,\n",
    "                    epochs=2,\n",
    "                    validation_data=test_datagen(),\n",
    "                    validation_steps=n_testing_examples//batch_size,\n",
    "                    verbose=2)"
   ]
  },
  {
   "cell_type": "markdown",
   "metadata": {
    "colab_type": "text",
    "id": "fDY5hwFlJ1V0"
   },
   "source": [
    "## Fine tuning"
   ]
  },
  {
   "cell_type": "code",
   "execution_count": 12,
   "metadata": {
    "colab": {
     "autoexec": {
      "startup": false,
      "wait_interval": 0
     },
     "base_uri": "https://localhost:8080/",
     "height": 6384
    },
    "colab_type": "code",
    "executionInfo": {
     "elapsed": 1194,
     "status": "ok",
     "timestamp": 1524207600718,
     "user": {
      "displayName": "Pranjal Borah",
      "photoUrl": "//lh3.googleusercontent.com/-oq_4MGCUClM/AAAAAAAAAAI/AAAAAAAAAHE/NHmV55gWGqo/s50-c-k-no/photo.jpg",
      "userId": "110927440164839730865"
     },
     "user_tz": -330
    },
    "id": "CAkucJyVLRNI",
    "outputId": "c76495ae-44fd-4623-dbd9-8fb2727ebc82"
   },
   "outputs": [
    {
     "name": "stdout",
     "output_type": "stream",
     "text": [
      "__________________________________________________________________________________________________\n",
      "Layer (type)                    Output Shape         Param #     Connected to                     \n",
      "==================================================================================================\n",
      "input_1 (InputLayer)            (None, None, None, 3 0                                            \n",
      "__________________________________________________________________________________________________\n",
      "conv1_pad (ZeroPadding2D)       (None, None, None, 3 0           input_1[0][0]                    \n",
      "__________________________________________________________________________________________________\n",
      "conv1 (Conv2D)                  (None, None, None, 6 9472        conv1_pad[0][0]                  \n",
      "__________________________________________________________________________________________________\n",
      "bn_conv1 (BatchNormalization)   (None, None, None, 6 256         conv1[0][0]                      \n",
      "__________________________________________________________________________________________________\n",
      "activation_1 (Activation)       (None, None, None, 6 0           bn_conv1[0][0]                   \n",
      "__________________________________________________________________________________________________\n",
      "max_pooling2d_1 (MaxPooling2D)  (None, None, None, 6 0           activation_1[0][0]               \n",
      "__________________________________________________________________________________________________\n",
      "res2a_branch2a (Conv2D)         (None, None, None, 6 4160        max_pooling2d_1[0][0]            \n",
      "__________________________________________________________________________________________________\n",
      "bn2a_branch2a (BatchNormalizati (None, None, None, 6 256         res2a_branch2a[0][0]             \n",
      "__________________________________________________________________________________________________\n",
      "activation_2 (Activation)       (None, None, None, 6 0           bn2a_branch2a[0][0]              \n",
      "__________________________________________________________________________________________________\n",
      "res2a_branch2b (Conv2D)         (None, None, None, 6 36928       activation_2[0][0]               \n",
      "__________________________________________________________________________________________________\n",
      "bn2a_branch2b (BatchNormalizati (None, None, None, 6 256         res2a_branch2b[0][0]             \n",
      "__________________________________________________________________________________________________\n",
      "activation_3 (Activation)       (None, None, None, 6 0           bn2a_branch2b[0][0]              \n",
      "__________________________________________________________________________________________________\n",
      "res2a_branch2c (Conv2D)         (None, None, None, 2 16640       activation_3[0][0]               \n",
      "__________________________________________________________________________________________________\n",
      "res2a_branch1 (Conv2D)          (None, None, None, 2 16640       max_pooling2d_1[0][0]            \n",
      "__________________________________________________________________________________________________\n",
      "bn2a_branch2c (BatchNormalizati (None, None, None, 2 1024        res2a_branch2c[0][0]             \n",
      "__________________________________________________________________________________________________\n",
      "bn2a_branch1 (BatchNormalizatio (None, None, None, 2 1024        res2a_branch1[0][0]              \n",
      "__________________________________________________________________________________________________\n",
      "add_1 (Add)                     (None, None, None, 2 0           bn2a_branch2c[0][0]              \n",
      "                                                                 bn2a_branch1[0][0]               \n",
      "__________________________________________________________________________________________________\n",
      "activation_4 (Activation)       (None, None, None, 2 0           add_1[0][0]                      \n",
      "__________________________________________________________________________________________________\n",
      "res2b_branch2a (Conv2D)         (None, None, None, 6 16448       activation_4[0][0]               \n",
      "__________________________________________________________________________________________________\n",
      "bn2b_branch2a (BatchNormalizati (None, None, None, 6 256         res2b_branch2a[0][0]             \n",
      "__________________________________________________________________________________________________\n",
      "activation_5 (Activation)       (None, None, None, 6 0           bn2b_branch2a[0][0]              \n",
      "__________________________________________________________________________________________________\n",
      "res2b_branch2b (Conv2D)         (None, None, None, 6 36928       activation_5[0][0]               \n",
      "__________________________________________________________________________________________________\n",
      "bn2b_branch2b (BatchNormalizati (None, None, None, 6 256         res2b_branch2b[0][0]             \n",
      "__________________________________________________________________________________________________\n",
      "activation_6 (Activation)       (None, None, None, 6 0           bn2b_branch2b[0][0]              \n",
      "__________________________________________________________________________________________________\n",
      "res2b_branch2c (Conv2D)         (None, None, None, 2 16640       activation_6[0][0]               \n",
      "__________________________________________________________________________________________________\n",
      "bn2b_branch2c (BatchNormalizati (None, None, None, 2 1024        res2b_branch2c[0][0]             \n",
      "__________________________________________________________________________________________________\n",
      "add_2 (Add)                     (None, None, None, 2 0           bn2b_branch2c[0][0]              \n",
      "                                                                 activation_4[0][0]               \n",
      "__________________________________________________________________________________________________\n",
      "activation_7 (Activation)       (None, None, None, 2 0           add_2[0][0]                      \n",
      "__________________________________________________________________________________________________\n",
      "res2c_branch2a (Conv2D)         (None, None, None, 6 16448       activation_7[0][0]               \n",
      "__________________________________________________________________________________________________\n",
      "bn2c_branch2a (BatchNormalizati (None, None, None, 6 256         res2c_branch2a[0][0]             \n",
      "__________________________________________________________________________________________________\n",
      "activation_8 (Activation)       (None, None, None, 6 0           bn2c_branch2a[0][0]              \n",
      "__________________________________________________________________________________________________\n",
      "res2c_branch2b (Conv2D)         (None, None, None, 6 36928       activation_8[0][0]               \n",
      "__________________________________________________________________________________________________\n",
      "bn2c_branch2b (BatchNormalizati (None, None, None, 6 256         res2c_branch2b[0][0]             \n",
      "__________________________________________________________________________________________________\n",
      "activation_9 (Activation)       (None, None, None, 6 0           bn2c_branch2b[0][0]              \n",
      "__________________________________________________________________________________________________\n",
      "res2c_branch2c (Conv2D)         (None, None, None, 2 16640       activation_9[0][0]               \n",
      "__________________________________________________________________________________________________\n",
      "bn2c_branch2c (BatchNormalizati (None, None, None, 2 1024        res2c_branch2c[0][0]             \n",
      "__________________________________________________________________________________________________\n",
      "add_3 (Add)                     (None, None, None, 2 0           bn2c_branch2c[0][0]              \n",
      "                                                                 activation_7[0][0]               \n",
      "__________________________________________________________________________________________________\n",
      "activation_10 (Activation)      (None, None, None, 2 0           add_3[0][0]                      \n",
      "__________________________________________________________________________________________________\n",
      "res3a_branch2a (Conv2D)         (None, None, None, 1 32896       activation_10[0][0]              \n",
      "__________________________________________________________________________________________________\n",
      "bn3a_branch2a (BatchNormalizati (None, None, None, 1 512         res3a_branch2a[0][0]             \n",
      "__________________________________________________________________________________________________\n",
      "activation_11 (Activation)      (None, None, None, 1 0           bn3a_branch2a[0][0]              \n",
      "__________________________________________________________________________________________________\n",
      "res3a_branch2b (Conv2D)         (None, None, None, 1 147584      activation_11[0][0]              \n",
      "__________________________________________________________________________________________________\n",
      "bn3a_branch2b (BatchNormalizati (None, None, None, 1 512         res3a_branch2b[0][0]             \n",
      "__________________________________________________________________________________________________\n",
      "activation_12 (Activation)      (None, None, None, 1 0           bn3a_branch2b[0][0]              \n",
      "__________________________________________________________________________________________________\n",
      "res3a_branch2c (Conv2D)         (None, None, None, 5 66048       activation_12[0][0]              \n",
      "__________________________________________________________________________________________________\n",
      "res3a_branch1 (Conv2D)          (None, None, None, 5 131584      activation_10[0][0]              \n",
      "__________________________________________________________________________________________________\n",
      "bn3a_branch2c (BatchNormalizati (None, None, None, 5 2048        res3a_branch2c[0][0]             \n",
      "__________________________________________________________________________________________________\n",
      "bn3a_branch1 (BatchNormalizatio (None, None, None, 5 2048        res3a_branch1[0][0]              \n",
      "__________________________________________________________________________________________________\n",
      "add_4 (Add)                     (None, None, None, 5 0           bn3a_branch2c[0][0]              \n",
      "                                                                 bn3a_branch1[0][0]               \n",
      "__________________________________________________________________________________________________\n",
      "activation_13 (Activation)      (None, None, None, 5 0           add_4[0][0]                      \n",
      "__________________________________________________________________________________________________\n",
      "res3b_branch2a (Conv2D)         (None, None, None, 1 65664       activation_13[0][0]              \n",
      "__________________________________________________________________________________________________\n",
      "bn3b_branch2a (BatchNormalizati (None, None, None, 1 512         res3b_branch2a[0][0]             \n",
      "__________________________________________________________________________________________________\n",
      "activation_14 (Activation)      (None, None, None, 1 0           bn3b_branch2a[0][0]              \n",
      "__________________________________________________________________________________________________\n",
      "res3b_branch2b (Conv2D)         (None, None, None, 1 147584      activation_14[0][0]              \n",
      "__________________________________________________________________________________________________\n",
      "bn3b_branch2b (BatchNormalizati (None, None, None, 1 512         res3b_branch2b[0][0]             \n",
      "__________________________________________________________________________________________________\n",
      "activation_15 (Activation)      (None, None, None, 1 0           bn3b_branch2b[0][0]              \n",
      "__________________________________________________________________________________________________\n",
      "res3b_branch2c (Conv2D)         (None, None, None, 5 66048       activation_15[0][0]              \n",
      "__________________________________________________________________________________________________\n",
      "bn3b_branch2c (BatchNormalizati (None, None, None, 5 2048        res3b_branch2c[0][0]             \n",
      "__________________________________________________________________________________________________\n",
      "add_5 (Add)                     (None, None, None, 5 0           bn3b_branch2c[0][0]              \n",
      "                                                                 activation_13[0][0]              \n",
      "__________________________________________________________________________________________________\n",
      "activation_16 (Activation)      (None, None, None, 5 0           add_5[0][0]                      \n",
      "__________________________________________________________________________________________________\n",
      "res3c_branch2a (Conv2D)         (None, None, None, 1 65664       activation_16[0][0]              \n",
      "__________________________________________________________________________________________________\n",
      "bn3c_branch2a (BatchNormalizati (None, None, None, 1 512         res3c_branch2a[0][0]             \n",
      "__________________________________________________________________________________________________\n",
      "activation_17 (Activation)      (None, None, None, 1 0           bn3c_branch2a[0][0]              \n",
      "__________________________________________________________________________________________________\n",
      "res3c_branch2b (Conv2D)         (None, None, None, 1 147584      activation_17[0][0]              \n",
      "__________________________________________________________________________________________________\n",
      "bn3c_branch2b (BatchNormalizati (None, None, None, 1 512         res3c_branch2b[0][0]             \n",
      "__________________________________________________________________________________________________\n",
      "activation_18 (Activation)      (None, None, None, 1 0           bn3c_branch2b[0][0]              \n",
      "__________________________________________________________________________________________________\n",
      "res3c_branch2c (Conv2D)         (None, None, None, 5 66048       activation_18[0][0]              \n",
      "__________________________________________________________________________________________________\n",
      "bn3c_branch2c (BatchNormalizati (None, None, None, 5 2048        res3c_branch2c[0][0]             \n",
      "__________________________________________________________________________________________________\n",
      "add_6 (Add)                     (None, None, None, 5 0           bn3c_branch2c[0][0]              \n",
      "                                                                 activation_16[0][0]              \n",
      "__________________________________________________________________________________________________\n",
      "activation_19 (Activation)      (None, None, None, 5 0           add_6[0][0]                      \n",
      "__________________________________________________________________________________________________\n",
      "res3d_branch2a (Conv2D)         (None, None, None, 1 65664       activation_19[0][0]              \n",
      "__________________________________________________________________________________________________\n",
      "bn3d_branch2a (BatchNormalizati (None, None, None, 1 512         res3d_branch2a[0][0]             \n",
      "__________________________________________________________________________________________________\n",
      "activation_20 (Activation)      (None, None, None, 1 0           bn3d_branch2a[0][0]              \n",
      "__________________________________________________________________________________________________\n",
      "res3d_branch2b (Conv2D)         (None, None, None, 1 147584      activation_20[0][0]              \n",
      "__________________________________________________________________________________________________\n",
      "bn3d_branch2b (BatchNormalizati (None, None, None, 1 512         res3d_branch2b[0][0]             \n",
      "__________________________________________________________________________________________________\n",
      "activation_21 (Activation)      (None, None, None, 1 0           bn3d_branch2b[0][0]              \n",
      "__________________________________________________________________________________________________\n",
      "res3d_branch2c (Conv2D)         (None, None, None, 5 66048       activation_21[0][0]              \n",
      "__________________________________________________________________________________________________\n",
      "bn3d_branch2c (BatchNormalizati (None, None, None, 5 2048        res3d_branch2c[0][0]             \n",
      "__________________________________________________________________________________________________\n",
      "add_7 (Add)                     (None, None, None, 5 0           bn3d_branch2c[0][0]              \n",
      "                                                                 activation_19[0][0]              \n",
      "__________________________________________________________________________________________________\n",
      "activation_22 (Activation)      (None, None, None, 5 0           add_7[0][0]                      \n",
      "__________________________________________________________________________________________________\n",
      "res4a_branch2a (Conv2D)         (None, None, None, 2 131328      activation_22[0][0]              \n",
      "__________________________________________________________________________________________________\n",
      "bn4a_branch2a (BatchNormalizati (None, None, None, 2 1024        res4a_branch2a[0][0]             \n",
      "__________________________________________________________________________________________________\n",
      "activation_23 (Activation)      (None, None, None, 2 0           bn4a_branch2a[0][0]              \n",
      "__________________________________________________________________________________________________\n",
      "res4a_branch2b (Conv2D)         (None, None, None, 2 590080      activation_23[0][0]              \n",
      "__________________________________________________________________________________________________\n",
      "bn4a_branch2b (BatchNormalizati (None, None, None, 2 1024        res4a_branch2b[0][0]             \n",
      "__________________________________________________________________________________________________\n",
      "activation_24 (Activation)      (None, None, None, 2 0           bn4a_branch2b[0][0]              \n",
      "__________________________________________________________________________________________________\n",
      "res4a_branch2c (Conv2D)         (None, None, None, 1 263168      activation_24[0][0]              \n",
      "__________________________________________________________________________________________________\n",
      "res4a_branch1 (Conv2D)          (None, None, None, 1 525312      activation_22[0][0]              \n",
      "__________________________________________________________________________________________________\n",
      "bn4a_branch2c (BatchNormalizati (None, None, None, 1 4096        res4a_branch2c[0][0]             \n",
      "__________________________________________________________________________________________________\n",
      "bn4a_branch1 (BatchNormalizatio (None, None, None, 1 4096        res4a_branch1[0][0]              \n",
      "__________________________________________________________________________________________________\n",
      "add_8 (Add)                     (None, None, None, 1 0           bn4a_branch2c[0][0]              \n",
      "                                                                 bn4a_branch1[0][0]               \n",
      "__________________________________________________________________________________________________\n",
      "activation_25 (Activation)      (None, None, None, 1 0           add_8[0][0]                      \n",
      "__________________________________________________________________________________________________\n",
      "res4b_branch2a (Conv2D)         (None, None, None, 2 262400      activation_25[0][0]              \n",
      "__________________________________________________________________________________________________\n",
      "bn4b_branch2a (BatchNormalizati (None, None, None, 2 1024        res4b_branch2a[0][0]             \n",
      "__________________________________________________________________________________________________\n",
      "activation_26 (Activation)      (None, None, None, 2 0           bn4b_branch2a[0][0]              \n",
      "__________________________________________________________________________________________________\n",
      "res4b_branch2b (Conv2D)         (None, None, None, 2 590080      activation_26[0][0]              \n",
      "__________________________________________________________________________________________________\n",
      "bn4b_branch2b (BatchNormalizati (None, None, None, 2 1024        res4b_branch2b[0][0]             \n",
      "__________________________________________________________________________________________________\n",
      "activation_27 (Activation)      (None, None, None, 2 0           bn4b_branch2b[0][0]              \n",
      "__________________________________________________________________________________________________\n",
      "res4b_branch2c (Conv2D)         (None, None, None, 1 263168      activation_27[0][0]              \n",
      "__________________________________________________________________________________________________\n",
      "bn4b_branch2c (BatchNormalizati (None, None, None, 1 4096        res4b_branch2c[0][0]             \n",
      "__________________________________________________________________________________________________\n",
      "add_9 (Add)                     (None, None, None, 1 0           bn4b_branch2c[0][0]              \n",
      "                                                                 activation_25[0][0]              \n",
      "__________________________________________________________________________________________________\n",
      "activation_28 (Activation)      (None, None, None, 1 0           add_9[0][0]                      \n",
      "__________________________________________________________________________________________________\n",
      "res4c_branch2a (Conv2D)         (None, None, None, 2 262400      activation_28[0][0]              \n",
      "__________________________________________________________________________________________________\n",
      "bn4c_branch2a (BatchNormalizati (None, None, None, 2 1024        res4c_branch2a[0][0]             \n",
      "__________________________________________________________________________________________________\n",
      "activation_29 (Activation)      (None, None, None, 2 0           bn4c_branch2a[0][0]              \n",
      "__________________________________________________________________________________________________\n",
      "res4c_branch2b (Conv2D)         (None, None, None, 2 590080      activation_29[0][0]              \n",
      "__________________________________________________________________________________________________\n",
      "bn4c_branch2b (BatchNormalizati (None, None, None, 2 1024        res4c_branch2b[0][0]             \n",
      "__________________________________________________________________________________________________\n",
      "activation_30 (Activation)      (None, None, None, 2 0           bn4c_branch2b[0][0]              \n",
      "__________________________________________________________________________________________________\n",
      "res4c_branch2c (Conv2D)         (None, None, None, 1 263168      activation_30[0][0]              \n",
      "__________________________________________________________________________________________________\n",
      "bn4c_branch2c (BatchNormalizati (None, None, None, 1 4096        res4c_branch2c[0][0]             \n",
      "__________________________________________________________________________________________________\n",
      "add_10 (Add)                    (None, None, None, 1 0           bn4c_branch2c[0][0]              \n",
      "                                                                 activation_28[0][0]              \n",
      "__________________________________________________________________________________________________\n",
      "activation_31 (Activation)      (None, None, None, 1 0           add_10[0][0]                     \n",
      "__________________________________________________________________________________________________\n",
      "res4d_branch2a (Conv2D)         (None, None, None, 2 262400      activation_31[0][0]              \n",
      "__________________________________________________________________________________________________\n",
      "bn4d_branch2a (BatchNormalizati (None, None, None, 2 1024        res4d_branch2a[0][0]             \n",
      "__________________________________________________________________________________________________\n",
      "activation_32 (Activation)      (None, None, None, 2 0           bn4d_branch2a[0][0]              \n",
      "__________________________________________________________________________________________________\n",
      "res4d_branch2b (Conv2D)         (None, None, None, 2 590080      activation_32[0][0]              \n",
      "__________________________________________________________________________________________________\n",
      "bn4d_branch2b (BatchNormalizati (None, None, None, 2 1024        res4d_branch2b[0][0]             \n",
      "__________________________________________________________________________________________________\n",
      "activation_33 (Activation)      (None, None, None, 2 0           bn4d_branch2b[0][0]              \n",
      "__________________________________________________________________________________________________\n",
      "res4d_branch2c (Conv2D)         (None, None, None, 1 263168      activation_33[0][0]              \n",
      "__________________________________________________________________________________________________\n",
      "bn4d_branch2c (BatchNormalizati (None, None, None, 1 4096        res4d_branch2c[0][0]             \n",
      "__________________________________________________________________________________________________\n",
      "add_11 (Add)                    (None, None, None, 1 0           bn4d_branch2c[0][0]              \n",
      "                                                                 activation_31[0][0]              \n",
      "__________________________________________________________________________________________________\n",
      "activation_34 (Activation)      (None, None, None, 1 0           add_11[0][0]                     \n",
      "__________________________________________________________________________________________________\n",
      "res4e_branch2a (Conv2D)         (None, None, None, 2 262400      activation_34[0][0]              \n",
      "__________________________________________________________________________________________________\n",
      "bn4e_branch2a (BatchNormalizati (None, None, None, 2 1024        res4e_branch2a[0][0]             \n",
      "__________________________________________________________________________________________________\n",
      "activation_35 (Activation)      (None, None, None, 2 0           bn4e_branch2a[0][0]              \n",
      "__________________________________________________________________________________________________\n",
      "res4e_branch2b (Conv2D)         (None, None, None, 2 590080      activation_35[0][0]              \n",
      "__________________________________________________________________________________________________\n",
      "bn4e_branch2b (BatchNormalizati (None, None, None, 2 1024        res4e_branch2b[0][0]             \n",
      "__________________________________________________________________________________________________\n",
      "activation_36 (Activation)      (None, None, None, 2 0           bn4e_branch2b[0][0]              \n",
      "__________________________________________________________________________________________________\n",
      "res4e_branch2c (Conv2D)         (None, None, None, 1 263168      activation_36[0][0]              \n",
      "__________________________________________________________________________________________________\n",
      "bn4e_branch2c (BatchNormalizati (None, None, None, 1 4096        res4e_branch2c[0][0]             \n",
      "__________________________________________________________________________________________________\n",
      "add_12 (Add)                    (None, None, None, 1 0           bn4e_branch2c[0][0]              \n",
      "                                                                 activation_34[0][0]              \n",
      "__________________________________________________________________________________________________\n",
      "activation_37 (Activation)      (None, None, None, 1 0           add_12[0][0]                     \n",
      "__________________________________________________________________________________________________\n",
      "res4f_branch2a (Conv2D)         (None, None, None, 2 262400      activation_37[0][0]              \n",
      "__________________________________________________________________________________________________\n",
      "bn4f_branch2a (BatchNormalizati (None, None, None, 2 1024        res4f_branch2a[0][0]             \n",
      "__________________________________________________________________________________________________\n",
      "activation_38 (Activation)      (None, None, None, 2 0           bn4f_branch2a[0][0]              \n",
      "__________________________________________________________________________________________________\n",
      "res4f_branch2b (Conv2D)         (None, None, None, 2 590080      activation_38[0][0]              \n",
      "__________________________________________________________________________________________________\n",
      "bn4f_branch2b (BatchNormalizati (None, None, None, 2 1024        res4f_branch2b[0][0]             \n",
      "__________________________________________________________________________________________________\n",
      "activation_39 (Activation)      (None, None, None, 2 0           bn4f_branch2b[0][0]              \n",
      "__________________________________________________________________________________________________\n",
      "res4f_branch2c (Conv2D)         (None, None, None, 1 263168      activation_39[0][0]              \n",
      "__________________________________________________________________________________________________\n",
      "bn4f_branch2c (BatchNormalizati (None, None, None, 1 4096        res4f_branch2c[0][0]             \n",
      "__________________________________________________________________________________________________\n",
      "add_13 (Add)                    (None, None, None, 1 0           bn4f_branch2c[0][0]              \n",
      "                                                                 activation_37[0][0]              \n",
      "__________________________________________________________________________________________________\n",
      "activation_40 (Activation)      (None, None, None, 1 0           add_13[0][0]                     \n",
      "__________________________________________________________________________________________________\n",
      "res5a_branch2a (Conv2D)         (None, None, None, 5 524800      activation_40[0][0]              \n",
      "__________________________________________________________________________________________________\n",
      "bn5a_branch2a (BatchNormalizati (None, None, None, 5 2048        res5a_branch2a[0][0]             \n",
      "__________________________________________________________________________________________________\n",
      "activation_41 (Activation)      (None, None, None, 5 0           bn5a_branch2a[0][0]              \n",
      "__________________________________________________________________________________________________\n",
      "res5a_branch2b (Conv2D)         (None, None, None, 5 2359808     activation_41[0][0]              \n",
      "__________________________________________________________________________________________________\n",
      "bn5a_branch2b (BatchNormalizati (None, None, None, 5 2048        res5a_branch2b[0][0]             \n",
      "__________________________________________________________________________________________________\n",
      "activation_42 (Activation)      (None, None, None, 5 0           bn5a_branch2b[0][0]              \n",
      "__________________________________________________________________________________________________\n",
      "res5a_branch2c (Conv2D)         (None, None, None, 2 1050624     activation_42[0][0]              \n",
      "__________________________________________________________________________________________________\n",
      "res5a_branch1 (Conv2D)          (None, None, None, 2 2099200     activation_40[0][0]              \n",
      "__________________________________________________________________________________________________\n",
      "bn5a_branch2c (BatchNormalizati (None, None, None, 2 8192        res5a_branch2c[0][0]             \n",
      "__________________________________________________________________________________________________\n",
      "bn5a_branch1 (BatchNormalizatio (None, None, None, 2 8192        res5a_branch1[0][0]              \n",
      "__________________________________________________________________________________________________\n",
      "add_14 (Add)                    (None, None, None, 2 0           bn5a_branch2c[0][0]              \n",
      "                                                                 bn5a_branch1[0][0]               \n",
      "__________________________________________________________________________________________________\n",
      "activation_43 (Activation)      (None, None, None, 2 0           add_14[0][0]                     \n",
      "__________________________________________________________________________________________________\n",
      "res5b_branch2a (Conv2D)         (None, None, None, 5 1049088     activation_43[0][0]              \n",
      "__________________________________________________________________________________________________\n",
      "bn5b_branch2a (BatchNormalizati (None, None, None, 5 2048        res5b_branch2a[0][0]             \n",
      "__________________________________________________________________________________________________\n",
      "activation_44 (Activation)      (None, None, None, 5 0           bn5b_branch2a[0][0]              \n",
      "__________________________________________________________________________________________________\n",
      "res5b_branch2b (Conv2D)         (None, None, None, 5 2359808     activation_44[0][0]              \n",
      "__________________________________________________________________________________________________\n",
      "bn5b_branch2b (BatchNormalizati (None, None, None, 5 2048        res5b_branch2b[0][0]             \n",
      "__________________________________________________________________________________________________\n",
      "activation_45 (Activation)      (None, None, None, 5 0           bn5b_branch2b[0][0]              \n",
      "__________________________________________________________________________________________________\n",
      "res5b_branch2c (Conv2D)         (None, None, None, 2 1050624     activation_45[0][0]              \n",
      "__________________________________________________________________________________________________\n",
      "bn5b_branch2c (BatchNormalizati (None, None, None, 2 8192        res5b_branch2c[0][0]             \n",
      "__________________________________________________________________________________________________\n",
      "add_15 (Add)                    (None, None, None, 2 0           bn5b_branch2c[0][0]              \n",
      "                                                                 activation_43[0][0]              \n",
      "__________________________________________________________________________________________________\n",
      "activation_46 (Activation)      (None, None, None, 2 0           add_15[0][0]                     \n",
      "__________________________________________________________________________________________________\n",
      "res5c_branch2a (Conv2D)         (None, None, None, 5 1049088     activation_46[0][0]              \n",
      "__________________________________________________________________________________________________\n",
      "bn5c_branch2a (BatchNormalizati (None, None, None, 5 2048        res5c_branch2a[0][0]             \n",
      "__________________________________________________________________________________________________\n",
      "activation_47 (Activation)      (None, None, None, 5 0           bn5c_branch2a[0][0]              \n",
      "__________________________________________________________________________________________________\n",
      "res5c_branch2b (Conv2D)         (None, None, None, 5 2359808     activation_47[0][0]              \n",
      "__________________________________________________________________________________________________\n",
      "bn5c_branch2b (BatchNormalizati (None, None, None, 5 2048        res5c_branch2b[0][0]             \n",
      "__________________________________________________________________________________________________\n",
      "activation_48 (Activation)      (None, None, None, 5 0           bn5c_branch2b[0][0]              \n",
      "__________________________________________________________________________________________________\n",
      "res5c_branch2c (Conv2D)         (None, None, None, 2 1050624     activation_48[0][0]              \n",
      "__________________________________________________________________________________________________\n",
      "bn5c_branch2c (BatchNormalizati (None, None, None, 2 8192        res5c_branch2c[0][0]             \n",
      "__________________________________________________________________________________________________\n",
      "add_16 (Add)                    (None, None, None, 2 0           bn5c_branch2c[0][0]              \n",
      "                                                                 activation_46[0][0]              \n",
      "__________________________________________________________________________________________________\n",
      "activation_49 (Activation)      (None, None, None, 2 0           add_16[0][0]                     \n",
      "__________________________________________________________________________________________________\n",
      "avg_pool (AveragePooling2D)     (None, None, None, 2 0           activation_49[0][0]              \n",
      "__________________________________________________________________________________________________\n",
      "global_average_pooling2d_1 (Glo (None, 2048)         0           avg_pool[0][0]                   \n",
      "__________________________________________________________________________________________________\n",
      "dense_1 (Dense)                 (None, 1024)         2098176     global_average_pooling2d_1[0][0] \n",
      "__________________________________________________________________________________________________\n",
      "dense_2 (Dense)                 (None, 20)           20500       dense_1[0][0]                    \n",
      "==================================================================================================\n",
      "Total params: 25,706,388\n",
      "Trainable params: 2,118,676\n",
      "Non-trainable params: 23,587,712\n",
      "__________________________________________________________________________________________________\n"
     ]
    }
   ],
   "source": [
    "model.summary()"
   ]
  },
  {
   "cell_type": "code",
   "execution_count": 13,
   "metadata": {
    "colab": {
     "autoexec": {
      "startup": false,
      "wait_interval": 0
     },
     "base_uri": "https://localhost:8080/",
     "height": 3007
    },
    "colab_type": "code",
    "executionInfo": {
     "elapsed": 863,
     "status": "ok",
     "timestamp": 1524207607102,
     "user": {
      "displayName": "Pranjal Borah",
      "photoUrl": "//lh3.googleusercontent.com/-oq_4MGCUClM/AAAAAAAAAAI/AAAAAAAAAHE/NHmV55gWGqo/s50-c-k-no/photo.jpg",
      "userId": "110927440164839730865"
     },
     "user_tz": -330
    },
    "id": "rE7F-cDwJ8C7",
    "outputId": "2735b2b9-1c91-45ff-9310-ba62b6f1a599"
   },
   "outputs": [
    {
     "name": "stdout",
     "output_type": "stream",
     "text": [
      "0 input_1 False\n",
      "1 conv1_pad False\n",
      "2 conv1 False\n",
      "3 bn_conv1 False\n",
      "4 activation_1 False\n",
      "5 max_pooling2d_1 False\n",
      "6 res2a_branch2a False\n",
      "7 bn2a_branch2a False\n",
      "8 activation_2 False\n",
      "9 res2a_branch2b False\n",
      "10 bn2a_branch2b False\n",
      "11 activation_3 False\n",
      "12 res2a_branch2c False\n",
      "13 res2a_branch1 False\n",
      "14 bn2a_branch2c False\n",
      "15 bn2a_branch1 False\n",
      "16 add_1 False\n",
      "17 activation_4 False\n",
      "18 res2b_branch2a False\n",
      "19 bn2b_branch2a False\n",
      "20 activation_5 False\n",
      "21 res2b_branch2b False\n",
      "22 bn2b_branch2b False\n",
      "23 activation_6 False\n",
      "24 res2b_branch2c False\n",
      "25 bn2b_branch2c False\n",
      "26 add_2 False\n",
      "27 activation_7 False\n",
      "28 res2c_branch2a False\n",
      "29 bn2c_branch2a False\n",
      "30 activation_8 False\n",
      "31 res2c_branch2b False\n",
      "32 bn2c_branch2b False\n",
      "33 activation_9 False\n",
      "34 res2c_branch2c False\n",
      "35 bn2c_branch2c False\n",
      "36 add_3 False\n",
      "37 activation_10 False\n",
      "38 res3a_branch2a False\n",
      "39 bn3a_branch2a False\n",
      "40 activation_11 False\n",
      "41 res3a_branch2b False\n",
      "42 bn3a_branch2b False\n",
      "43 activation_12 False\n",
      "44 res3a_branch2c False\n",
      "45 res3a_branch1 False\n",
      "46 bn3a_branch2c False\n",
      "47 bn3a_branch1 False\n",
      "48 add_4 False\n",
      "49 activation_13 False\n",
      "50 res3b_branch2a False\n",
      "51 bn3b_branch2a False\n",
      "52 activation_14 False\n",
      "53 res3b_branch2b False\n",
      "54 bn3b_branch2b False\n",
      "55 activation_15 False\n",
      "56 res3b_branch2c False\n",
      "57 bn3b_branch2c False\n",
      "58 add_5 False\n",
      "59 activation_16 False\n",
      "60 res3c_branch2a False\n",
      "61 bn3c_branch2a False\n",
      "62 activation_17 False\n",
      "63 res3c_branch2b False\n",
      "64 bn3c_branch2b False\n",
      "65 activation_18 False\n",
      "66 res3c_branch2c False\n",
      "67 bn3c_branch2c False\n",
      "68 add_6 False\n",
      "69 activation_19 False\n",
      "70 res3d_branch2a False\n",
      "71 bn3d_branch2a False\n",
      "72 activation_20 False\n",
      "73 res3d_branch2b False\n",
      "74 bn3d_branch2b False\n",
      "75 activation_21 False\n",
      "76 res3d_branch2c False\n",
      "77 bn3d_branch2c False\n",
      "78 add_7 False\n",
      "79 activation_22 False\n",
      "80 res4a_branch2a False\n",
      "81 bn4a_branch2a False\n",
      "82 activation_23 False\n",
      "83 res4a_branch2b False\n",
      "84 bn4a_branch2b False\n",
      "85 activation_24 False\n",
      "86 res4a_branch2c False\n",
      "87 res4a_branch1 False\n",
      "88 bn4a_branch2c False\n",
      "89 bn4a_branch1 False\n",
      "90 add_8 False\n",
      "91 activation_25 False\n",
      "92 res4b_branch2a False\n",
      "93 bn4b_branch2a False\n",
      "94 activation_26 False\n",
      "95 res4b_branch2b False\n",
      "96 bn4b_branch2b False\n",
      "97 activation_27 False\n",
      "98 res4b_branch2c False\n",
      "99 bn4b_branch2c False\n",
      "100 add_9 False\n",
      "101 activation_28 False\n",
      "102 res4c_branch2a False\n",
      "103 bn4c_branch2a False\n",
      "104 activation_29 False\n",
      "105 res4c_branch2b False\n",
      "106 bn4c_branch2b False\n",
      "107 activation_30 False\n",
      "108 res4c_branch2c False\n",
      "109 bn4c_branch2c False\n",
      "110 add_10 False\n",
      "111 activation_31 False\n",
      "112 res4d_branch2a False\n",
      "113 bn4d_branch2a False\n",
      "114 activation_32 False\n",
      "115 res4d_branch2b False\n",
      "116 bn4d_branch2b False\n",
      "117 activation_33 False\n",
      "118 res4d_branch2c False\n",
      "119 bn4d_branch2c False\n",
      "120 add_11 False\n",
      "121 activation_34 False\n",
      "122 res4e_branch2a False\n",
      "123 bn4e_branch2a False\n",
      "124 activation_35 False\n",
      "125 res4e_branch2b False\n",
      "126 bn4e_branch2b False\n",
      "127 activation_36 False\n",
      "128 res4e_branch2c False\n",
      "129 bn4e_branch2c False\n",
      "130 add_12 False\n",
      "131 activation_37 False\n",
      "132 res4f_branch2a False\n",
      "133 bn4f_branch2a False\n",
      "134 activation_38 False\n",
      "135 res4f_branch2b False\n",
      "136 bn4f_branch2b False\n",
      "137 activation_39 False\n",
      "138 res4f_branch2c False\n",
      "139 bn4f_branch2c False\n",
      "140 add_13 False\n",
      "141 activation_40 False\n",
      "142 res5a_branch2a False\n",
      "143 bn5a_branch2a False\n",
      "144 activation_41 False\n",
      "145 res5a_branch2b False\n",
      "146 bn5a_branch2b False\n",
      "147 activation_42 False\n",
      "148 res5a_branch2c False\n",
      "149 res5a_branch1 False\n",
      "150 bn5a_branch2c False\n",
      "151 bn5a_branch1 False\n",
      "152 add_14 False\n",
      "153 activation_43 False\n",
      "154 res5b_branch2a False\n",
      "155 bn5b_branch2a False\n",
      "156 activation_44 False\n",
      "157 res5b_branch2b False\n",
      "158 bn5b_branch2b False\n",
      "159 activation_45 False\n",
      "160 res5b_branch2c False\n",
      "161 bn5b_branch2c False\n",
      "162 add_15 False\n",
      "163 activation_46 False\n",
      "164 res5c_branch2a False\n",
      "165 bn5c_branch2a False\n",
      "166 activation_47 False\n",
      "167 res5c_branch2b False\n",
      "168 bn5c_branch2b False\n",
      "169 activation_48 False\n",
      "170 res5c_branch2c False\n",
      "171 bn5c_branch2c False\n",
      "172 add_16 False\n",
      "173 activation_49 False\n",
      "174 avg_pool False\n",
      "175 global_average_pooling2d_1 True\n",
      "176 dense_1 True\n",
      "177 dense_2 True\n"
     ]
    }
   ],
   "source": [
    "for i, layer in enumerate(model.layers):\n",
    "    print(i, layer.name, layer.trainable) "
   ]
  },
  {
   "cell_type": "code",
   "execution_count": 14,
   "metadata": {
    "colab": {
     "autoexec": {
      "startup": false,
      "wait_interval": 0
     }
    },
    "colab_type": "code",
    "collapsed": true,
    "id": "Xbr5dLgkyhvL"
   },
   "outputs": [],
   "source": [
    "for layer in model.layers[:142]:\n",
    "    layer.trainable = False\n",
    "for layer in model.layers[142:]:\n",
    "    layer.trainable = True"
   ]
  },
  {
   "cell_type": "code",
   "execution_count": 15,
   "metadata": {
    "colab": {
     "autoexec": {
      "startup": false,
      "wait_interval": 0
     }
    },
    "colab_type": "code",
    "collapsed": true,
    "id": "JfZEH3btyrPd"
   },
   "outputs": [],
   "source": [
    "from keras.optimizers import SGD\n",
    "model.compile(optimizer=SGD(lr=0.0001, momentum=0.9), loss='categorical_crossentropy', metrics=['accuracy'])"
   ]
  },
  {
   "cell_type": "code",
   "execution_count": 16,
   "metadata": {
    "colab": {
     "autoexec": {
      "startup": false,
      "wait_interval": 0
     },
     "base_uri": "https://localhost:8080/",
     "height": 1610
    },
    "colab_type": "code",
    "executionInfo": {
     "elapsed": 4484197,
     "status": "error",
     "timestamp": 1524212130605,
     "user": {
      "displayName": "Pranjal Borah",
      "photoUrl": "//lh3.googleusercontent.com/-oq_4MGCUClM/AAAAAAAAAAI/AAAAAAAAAHE/NHmV55gWGqo/s50-c-k-no/photo.jpg",
      "userId": "110927440164839730865"
     },
     "user_tz": -330
    },
    "id": "p6k9cpSR8t_t",
    "outputId": "4e89ae76-876d-4efd-9bc8-082560705668"
   },
   "outputs": [
    {
     "name": "stdout",
     "output_type": "stream",
     "text": [
      "Epoch 1/20\n",
      " - 445s - loss: 0.6230 - acc: 0.8036 - val_loss: 1.1131 - val_acc: 0.7371\n",
      "Epoch 2/20\n",
      " - 443s - loss: 0.3391 - acc: 0.8989 - val_loss: 1.1319 - val_acc: 0.7441\n",
      "Epoch 3/20\n",
      " - 441s - loss: 0.2095 - acc: 0.9464 - val_loss: 1.1633 - val_acc: 0.7470\n",
      "Epoch 4/20\n",
      " - 440s - loss: 0.1304 - acc: 0.9739 - val_loss: 1.1988 - val_acc: 0.7476\n",
      "Epoch 5/20\n",
      " - 433s - loss: 0.0822 - acc: 0.9883 - val_loss: 1.2324 - val_acc: 0.7482\n",
      "Epoch 6/20\n",
      " - 436s - loss: 0.0536 - acc: 0.9952 - val_loss: 1.2633 - val_acc: 0.7486\n",
      "Epoch 7/20\n",
      " - 437s - loss: 0.0368 - acc: 0.9980 - val_loss: 1.2896 - val_acc: 0.7496\n",
      "Epoch 8/20\n",
      " - 438s - loss: 0.0266 - acc: 0.9992 - val_loss: 1.3127 - val_acc: 0.7495\n",
      "Epoch 9/20\n",
      " - 438s - loss: 0.0203 - acc: 0.9995 - val_loss: 1.3322 - val_acc: 0.7501\n",
      "Epoch 10/20\n",
      " - 438s - loss: 0.0161 - acc: 0.9998 - val_loss: 1.3497 - val_acc: 0.7506\n",
      "Epoch 11/20\n",
      " - 439s - loss: 0.0133 - acc: 0.9998 - val_loss: 1.3656 - val_acc: 0.7512\n",
      "Epoch 12/20\n",
      " - 440s - loss: 0.0112 - acc: 0.9999 - val_loss: 1.3791 - val_acc: 0.7515\n",
      "Epoch 13/20\n",
      " - 439s - loss: 0.0097 - acc: 0.9999 - val_loss: 1.3915 - val_acc: 0.7520\n",
      "Epoch 14/20\n",
      " - 439s - loss: 0.0085 - acc: 0.9999 - val_loss: 1.4026 - val_acc: 0.7524\n",
      "Epoch 15/20\n",
      " - 440s - loss: 0.0076 - acc: 0.9999 - val_loss: 1.4125 - val_acc: 0.7523\n",
      "Epoch 16/20\n",
      " - 444s - loss: 0.0069 - acc: 0.9999 - val_loss: 1.4218 - val_acc: 0.7524\n",
      "Epoch 17/20\n",
      " - 446s - loss: 0.0063 - acc: 0.9999 - val_loss: 1.4301 - val_acc: 0.7525\n",
      "Epoch 18/20\n",
      " - 445s - loss: 0.0058 - acc: 0.9999 - val_loss: 1.4379 - val_acc: 0.7526\n",
      "Epoch 19/20\n",
      " - 445s - loss: 0.0053 - acc: 0.9999 - val_loss: 1.4452 - val_acc: 0.7524\n",
      "Epoch 20/20\n",
      " - 445s - loss: 0.0050 - acc: 0.9999 - val_loss: 1.4521 - val_acc: 0.7524\n"
     ]
    }
   ],
   "source": [
    "train_datagen = image_generator(x_train, Y_train)\n",
    "test_datagen = image_generator(x_test, Y_test)\n",
    "\n",
    "history = model.fit_generator(train_datagen(), \n",
    "                    steps_per_epoch=n_training_examples//batch_size,\n",
    "                    epochs=n_epochs,\n",
    "                    validation_data=test_datagen(),\n",
    "                    validation_steps=n_testing_examples//batch_size,\n",
    "                    verbose=2)"
   ]
  },
  {
   "cell_type": "code",
   "execution_count": 17,
   "metadata": {
    "colab": {
     "autoexec": {
      "startup": false,
      "wait_interval": 0
     },
     "base_uri": "https://localhost:8080/",
     "height": 51
    },
    "colab_type": "code",
    "executionInfo": {
     "elapsed": 121450,
     "status": "ok",
     "timestamp": 1524212285583,
     "user": {
      "displayName": "Pranjal Borah",
      "photoUrl": "//lh3.googleusercontent.com/-oq_4MGCUClM/AAAAAAAAAAI/AAAAAAAAAHE/NHmV55gWGqo/s50-c-k-no/photo.jpg",
      "userId": "110927440164839730865"
     },
     "user_tz": -330
    },
    "id": "cVsbjLFPzGXo",
    "outputId": "b76fdf5d-934c-4b81-bb12-a644f6642c6e"
   },
   "outputs": [
    {
     "name": "stdout",
     "output_type": "stream",
     "text": [
      "\n",
      "Test acc: 75.24%\n"
     ]
    }
   ],
   "source": [
    "scores = model.evaluate_generator(test_datagen(), n_testing_examples//batch_size)\n",
    "print(\"\\nTest %s: %.2f%%\" % (model.metrics_names[1], scores[1]*100))"
   ]
  },
  {
   "cell_type": "markdown",
   "metadata": {},
   "source": [
    "## Plot accuracy and loss"
   ]
  },
  {
   "cell_type": "code",
   "execution_count": 18,
   "metadata": {},
   "outputs": [
    {
     "data": {
      "image/png": "[encoded data removed]",
      "text/plain": [
       "<matplotlib.figure.Figure at 0x7fc5e08dc470>"
      ]
     },
     "metadata": {},
     "output_type": "display_data"
    },
    {
     "data": {
      "image/png": "[encoded data removed]",
      "text/plain": [
       "<matplotlib.figure.Figure at 0x7fc5e1171ac8>"
      ]
     },
     "metadata": {},
     "output_type": "display_data"
    }
   ],
   "source": [
    "import matplotlib.pyplot as plt\n",
    "%matplotlib inline\n",
    "\n",
    "acc = history.history['acc']\n",
    "val_acc = history.history['val_acc']\n",
    "loss = history.history['loss']\n",
    "val_loss = history.history['val_loss']\n",
    "\n",
    "epochs = range(len(acc))\n",
    "\n",
    "plt.plot(epochs, acc, 'bo', label='Training acc')\n",
    "plt.plot(epochs, val_acc, 'r', label='Validation acc')\n",
    "plt.title('Training and validation accuracy')\n",
    "plt.legend()\n",
    "\n",
    "plt.figure()\n",
    "\n",
    "plt.plot(epochs, loss, 'bo', label='Training loss')\n",
    "plt.plot(epochs, val_loss, 'r', label='Validation loss')\n",
    "plt.title('Training and validation loss')\n",
    "plt.legend()\n",
    "\n",
    "plt.show()"
   ]
  },
  {
   "cell_type": "markdown",
   "metadata": {
    "colab_type": "text",
    "id": "RyRCd3CWNHr5"
   },
   "source": [
    "References\n",
    "- https://keras.io/applications/\n",
    "- The Keras Blog https://blog.keras.io/building-powerful-image-classification-models-using-very-little-data.html\n",
    "- http://nbviewer.jupyter.org/github/fchollet/deep-learning-with-python-notebooks/blob/master/5.3-using-a-pretrained-convnet.ipynb\n",
    "- Learn OpenCV https://www.learnopencv.com/keras-tutorial-fine-tuning-using-pre-trained-models/\n",
    "- Cifar10 classification experiments https://github.com/rnoxy/cifar10-cnn"
   ]
  }
 ],
 "metadata": {
  "accelerator": "GPU",
  "colab": {
   "collapsed_sections": [],
   "default_view": {},
   "name": "fine_tuning_20.ipynb",
   "provenance": [
    {
     "file_id": "1oXsOUNRZPx9rZnDYcfGzvTy1d7s-NC8u",
     "timestamp": 1524136668213
    },
    {
     "file_id": "1Bt3XbUiCXYLTtvxByOKXl9mWLpnYQ-Mp",
     "timestamp": 1524073866679
    }
   ],
   "toc_visible": true,
   "version": "0.3.2",
   "views": {}
  },
  "kernelspec": {
   "display_name": "Python 3",
   "language": "python",
   "name": "python3"
  },
  "language_info": {
   "codemirror_mode": {
    "name": "ipython",
    "version": 3
   },
   "file_extension": ".py",
   "mimetype": "text/x-python",
   "name": "python",
   "nbconvert_exporter": "python",
   "pygments_lexer": "ipython3",
   "version": "3.6.2"
  }
 },
 "nbformat": 4,
 "nbformat_minor": 1
}
